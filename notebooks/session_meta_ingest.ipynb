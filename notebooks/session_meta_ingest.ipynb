{
 "cells": [
  {
   "cell_type": "code",
   "execution_count": 1,
   "id": "c846d65d-cfb6-4068-bd1a-426d1565eb48",
   "metadata": {},
   "outputs": [],
   "source": [
    "import pandas as pd\n",
    "import findspark\n",
    "findspark.init()\n",
    "import numpy as np\n",
    "import json\n",
    "import os\n",
    "import pyspark\n",
    "from pyspark.sql import SparkSession, Row, Window\n",
    "from pyspark.sql.functions import udf, col, array, when, size, spark_partition_id, pandas_udf, PandasUDFType\n",
    "import pyspark.sql.functions as func\n",
    "from pyspark.sql import functions as F\n",
    "from pyspark.sql.types import StringType, ArrayType, FloatType, DoubleType, LongType, StructType, StructField, IntegerType, TimestampType, BooleanType, DecimalType\n",
    "import sqlalchemy\n",
    "from sqlalchemy.dialects import postgresql \n",
    "import psutil\n",
    "\n",
    "TOPIC = \"session_meta\"\n"
   ]
  },
  {
   "cell_type": "code",
   "execution_count": 2,
   "id": "d1d81841-e487-42be-8a09-7c21326a201c",
   "metadata": {
    "scrolled": true,
    "tags": []
   },
   "outputs": [
    {
     "name": "stdout",
     "output_type": "stream",
     "text": [
      ":: loading settings :: url = jar:file:/opt/conda/lib/python3.9/site-packages/pyspark/jars/ivy-2.5.0.jar!/org/apache/ivy/core/settings/ivysettings.xml\n"
     ]
    },
    {
     "name": "stderr",
     "output_type": "stream",
     "text": [
      "Ivy Default Cache set to: /home/jovyan/.ivy2/cache\n",
      "The jars for the packages stored in: /home/jovyan/.ivy2/jars\n",
      "org.apache.spark#spark-sql-kafka-0-10_2.12 added as a dependency\n",
      ":: resolving dependencies :: org.apache.spark#spark-submit-parent-17038993-de59-46ca-98b5-2198367467a9;1.0\n",
      "\tconfs: [default]\n",
      "\tfound org.apache.spark#spark-sql-kafka-0-10_2.12;3.2.0 in central\n",
      "\tfound org.apache.spark#spark-token-provider-kafka-0-10_2.12;3.2.0 in central\n",
      "\tfound org.apache.kafka#kafka-clients;2.8.0 in central\n",
      "\tfound org.lz4#lz4-java;1.7.1 in central\n",
      "\tfound org.xerial.snappy#snappy-java;1.1.8.4 in central\n",
      "\tfound org.slf4j#slf4j-api;1.7.30 in central\n",
      "\tfound org.apache.hadoop#hadoop-client-runtime;3.3.1 in central\n",
      "\tfound org.spark-project.spark#unused;1.0.0 in central\n",
      "\tfound org.apache.hadoop#hadoop-client-api;3.3.1 in central\n",
      "\tfound org.apache.htrace#htrace-core4;4.1.0-incubating in central\n",
      "\tfound commons-logging#commons-logging;1.1.3 in central\n",
      "\tfound com.google.code.findbugs#jsr305;3.0.0 in central\n",
      "\tfound org.apache.commons#commons-pool2;2.6.2 in central\n",
      ":: resolution report :: resolve 452ms :: artifacts dl 13ms\n",
      "\t:: modules in use:\n",
      "\tcom.google.code.findbugs#jsr305;3.0.0 from central in [default]\n",
      "\tcommons-logging#commons-logging;1.1.3 from central in [default]\n",
      "\torg.apache.commons#commons-pool2;2.6.2 from central in [default]\n",
      "\torg.apache.hadoop#hadoop-client-api;3.3.1 from central in [default]\n",
      "\torg.apache.hadoop#hadoop-client-runtime;3.3.1 from central in [default]\n",
      "\torg.apache.htrace#htrace-core4;4.1.0-incubating from central in [default]\n",
      "\torg.apache.kafka#kafka-clients;2.8.0 from central in [default]\n",
      "\torg.apache.spark#spark-sql-kafka-0-10_2.12;3.2.0 from central in [default]\n",
      "\torg.apache.spark#spark-token-provider-kafka-0-10_2.12;3.2.0 from central in [default]\n",
      "\torg.lz4#lz4-java;1.7.1 from central in [default]\n",
      "\torg.slf4j#slf4j-api;1.7.30 from central in [default]\n",
      "\torg.spark-project.spark#unused;1.0.0 from central in [default]\n",
      "\torg.xerial.snappy#snappy-java;1.1.8.4 from central in [default]\n",
      "\t---------------------------------------------------------------------\n",
      "\t|                  |            modules            ||   artifacts   |\n",
      "\t|       conf       | number| search|dwnlded|evicted|| number|dwnlded|\n",
      "\t---------------------------------------------------------------------\n",
      "\t|      default     |   13  |   0   |   0   |   0   ||   13  |   0   |\n",
      "\t---------------------------------------------------------------------\n",
      ":: retrieving :: org.apache.spark#spark-submit-parent-17038993-de59-46ca-98b5-2198367467a9\n",
      "\tconfs: [default]\n",
      "\t0 artifacts copied, 13 already retrieved (0kB/10ms)\n",
      "22/09/26 21:44:44 WARN NativeCodeLoader: Unable to load native-hadoop library for your platform... using builtin-java classes where applicable\n",
      "Using Spark's default log4j profile: org/apache/spark/log4j-defaults.properties\n",
      "Setting default log level to \"WARN\".\n",
      "To adjust logging level use sc.setLogLevel(newLevel). For SparkR, use setLogLevel(newLevel).\n",
      "22/09/26 21:44:44 WARN SparkConf: Note that spark.local.dir will be overridden by the value set by the cluster manager (via SPARK_LOCAL_DIRS in mesos/standalone/kubernetes and LOCAL_DIRS in YARN).\n",
      "22/09/26 21:44:45 WARN Utils: Service 'SparkUI' could not bind on port 4040. Attempting port 4041.\n",
      "22/09/26 21:44:45 WARN Utils: Service 'SparkUI' could not bind on port 4041. Attempting port 4042.\n"
     ]
    }
   ],
   "source": [
    "spark = SparkSession.builder \\\n",
    "    .appName(\"SoDa-TAP\") \\\n",
    "    .master(\"local[*]\") \\\n",
    "    .config(\"spark.local.dir\", \"/home/jovyan/sodatap\") \\\n",
    "    .config(\"spark.sql.execution.arrow.pyspark.enabled\", \"true\") \\\n",
    "    .config('spark.sql.repl.eagerEval.enabled', True) \\\n",
    "    .config(\"spark.jars.packages\", \"org.apache.spark:spark-sql-kafka-0-10_2.12:3.2.0\") \\\n",
    "    .config('spark.serializer', 'org.apache.spark.serializer.KryoSerializer') \\\n",
    "    .config('spark.streaming.kafka.consumer.cache.enabled', 'false') \\\n",
    "    .config('spark.kryoserializer.buffer.max', '2000M') \\\n",
    "    .config('spark.driver.maxResultSize', '1G') \\\n",
    "    .getOrCreate()"
   ]
  },
  {
   "cell_type": "code",
   "execution_count": 3,
   "id": "18ad2d20-4075-4e21-8025-52a6dc06a006",
   "metadata": {},
   "outputs": [],
   "source": [
    "sc = spark.sparkContext"
   ]
  },
  {
   "cell_type": "code",
   "execution_count": 4,
   "id": "e6bd0417-3adb-42dc-af41-aeff0fa674f2",
   "metadata": {},
   "outputs": [],
   "source": [
    "def write_sink(df, epoch_id):\n",
    "    df.toPandas().to_sql(\"sessions\", 'crate://129.128.184.214:4200', if_exists='append', index=False, chunksize=100)"
   ]
  },
  {
   "cell_type": "code",
   "execution_count": 5,
   "id": "fcee16b5-3eb5-4e07-b4fe-1d0f8567dcc0",
   "metadata": {},
   "outputs": [],
   "source": [
    "def infer_topic_schema_json(topic):\n",
    "    df_json = (spark.read.format(\"kafka\") \\\n",
    "                .option(\"kafka.bootstrap.servers\", \"broker:29092\") \\\n",
    "                .option(\"subscribe\", topic) \\\n",
    "                .option(\"startingOffsets\", \"earliest\") \\\n",
    "                .option(\"maxOffsetsPerTrigger\", \"1\") \\\n",
    "                .option(\"failOnDataLoss\", \"false\") \\\n",
    "                .load() \\\n",
    "                .withColumn(\"value\", F.expr(\"string(value)\")) \\\n",
    "                .select(\"value\"))\n",
    "    \n",
    "    df_read = spark.read.json(df_json.rdd.map(lambda x: x.value), multiLine=True)\n",
    "    return df_read.schema.json()"
   ]
  },
  {
   "cell_type": "code",
   "execution_count": 6,
   "id": "91a60057-a92c-4815-8e15-1391cd491ca3",
   "metadata": {
    "scrolled": true,
    "tags": []
   },
   "outputs": [
    {
     "name": "stderr",
     "output_type": "stream",
     "text": [
      "22/09/26 21:44:47 WARN KafkaSourceProvider: maxOffsetsPerTrigger option ignored in batch queries\n",
      "22/09/26 21:44:53 WARN KafkaDataConsumer: KafkaDataConsumer is not running in UninterruptibleThread. It may hang when KafkaDataConsumer's methods are interrupted because of KAFKA-1894\n",
      "                                                                                \r"
     ]
    }
   ],
   "source": [
    "infer_schema = True\n",
    "schema_location = \"meta_schema.json\"\n",
    "\n",
    "if not infer_schema: \n",
    "    try:\n",
    "        with open(schema_location, 'r') as f:\n",
    "            topic_schema_txt = json.load(f)\n",
    "    except:\n",
    "        infer_schema = True\n",
    "        pass\n",
    "\n",
    "if infer_schema:\n",
    "    topic_schema_txt = infer_topic_schema_json(TOPIC)\n",
    "    with open(schema_location, 'w') as f:\n",
    "        json.dump(topic_schema_txt, f)\n",
    "        \n",
    "topic_schema = StructType.fromJson(json.loads(topic_schema_txt))"
   ]
  },
  {
   "cell_type": "code",
   "execution_count": null,
   "id": "dc97cb4f-bb5a-4018-9374-8bc566d95c49",
   "metadata": {},
   "outputs": [],
   "source": [
    "json_results = spark.readStream \\\n",
    "            .format(\"kafka\") \\\n",
    "            .option(\"kafka.bootstrap.servers\", \"broker:29092\") \\\n",
    "            .option(\"subscribe\", TOPIC) \\\n",
    "            .option(\"maxOffsetsPerTrigger\", \"100000\") \\\n",
    "            .option(\"startingOffsets\", \"earliest\") \\\n",
    "            .option(\"failOnDataLoss\", \"false\") \\\n",
    "            .load() \\\n",
    "            .withColumn(\"value\", F.expr(\"string(value)\")) \\\n",
    "            .select(\"value\") \\\n",
    "            .withColumn('value', F.from_json(col(\"value\"), topic_schema)) \\\n",
    "            .select(\"value.*\")\n",
    "'''\n",
    "debug_sink = json_results.writeStream \\\n",
    "    .outputMode(\"update\") \\\n",
    "    .trigger(processingTime='1 seconds') \\\n",
    "    .option(\"truncate\", \"false\")\\\n",
    "    .format(\"console\") \\\n",
    "    .start()\n",
    "'''\n",
    "\n",
    "debug_sink = json_results.writeStream \\\n",
    "    .foreachBatch(write_sink) \\\n",
    "    .start()\n",
    "\n",
    "debug_sink.awaitTermination()"
   ]
  },
  {
   "cell_type": "code",
   "execution_count": null,
   "id": "ff814964-dccd-4cea-9e86-322869991af9",
   "metadata": {},
   "outputs": [],
   "source": []
  }
 ],
 "metadata": {
  "kernelspec": {
   "display_name": "Python 3 (ipykernel)",
   "language": "python",
   "name": "python3"
  },
  "language_info": {
   "codemirror_mode": {
    "name": "ipython",
    "version": 3
   },
   "file_extension": ".py",
   "mimetype": "text/x-python",
   "name": "python",
   "nbconvert_exporter": "python",
   "pygments_lexer": "ipython3",
   "version": "3.9.10"
  }
 },
 "nbformat": 4,
 "nbformat_minor": 5
}
